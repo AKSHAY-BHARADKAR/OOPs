{
  "nbformat": 4,
  "nbformat_minor": 0,
  "metadata": {
    "colab": {
      "provenance": []
    },
    "kernelspec": {
      "name": "python3",
      "display_name": "Python 3"
    },
    "language_info": {
      "name": "python"
    }
  },
  "cells": [
    {
      "cell_type": "code",
      "execution_count": null,
      "metadata": {
        "id": "Bg3Kct8pNmV_"
      },
      "outputs": [],
      "source": []
    },
    {
      "cell_type": "markdown",
      "source": [
        "Python OOPs questions And Answer\n",
        "\n",
        "1.\tWhat is Object-Oriented Programming (OOP)?\n",
        "\n",
        "Ans :-\tOOP is a programming paradigm based on the concept of objects, which can contain data and methods. It emphasizes concepts such as inheritance, polymorphism, encapsulation, and abstraction.\n",
        "\n",
        "\n",
        "2.\tWhat is a class in OOP?\n",
        "\n",
        "Ans :-\tA class is a blueprint for creating objects. It defines attributes (data) and methods (functions) that the created objects will have.\n",
        "\n",
        "\n",
        "3.\tWhat is an object in OOP?\n",
        "\n",
        "Ans :-\n",
        "\tAn object is an instance of a class. It represents a real-world entity with attributes and behaviors.\n",
        "\n",
        "4.\tWhat is the difference between abstraction and encapsulation?\n",
        "\n",
        "Ans :-\n",
        "\n",
        "o\tAbstraction is the process of hiding the implementation details and showing only the functionality.\n",
        "\n",
        "o\tEncapsulation is the bundling of data (attributes) and methods that operate on the data into a single unit or class, and restricting direct access to some of the object's components.\n",
        "\n",
        "5.\tWhat are dunder methods in Python?\n",
        "\n",
        "Ans :- \tDunder (double underscore) methods are special methods in Python, such as __init__(), __str__(), and __repr__(). They allow objects to implement behavior for built-in operations like initialization and string representation.\n",
        "\n",
        "6.\tExplain the concept of inheritance in OOP.\n",
        "\n",
        "Ans :- \tInheritance allows a class to inherit properties and methods from another class. The class that inherits is called the child class or subclass, and the class from which it inherits is called the parent class or superclass.\n",
        "\n",
        "7.\tWhat is polymorphism in OOP?\n",
        "\n",
        "Ans :- \tPolymorphism allows objects of different classes to be treated as objects of a common superclass. It enables the same function to behave differently based on the object calling it.\n",
        "\n",
        "8.\tHow is encapsulation achieved in Python?\n",
        "\n",
        "Ans :- \tEncapsulation is achieved by declaring variables as private (prefixing with __) and providing getter and setter methods to control access.\n",
        "\n",
        "9.\tWhat is a constructor in Python?\n",
        "\n",
        "Ans :- A constructor is a special method, __init__(), that is automatically called when an object of a class is created. It is used to initialize the object's attributes.\n",
        "\n",
        "10.\tWhat are class and static methods in Python?\n",
        "\n",
        "Ans :-\n",
        "\n",
        "o\tClass methods are methods that take the class itself as the first argument (usually cls) and are defined using the @classmethod decorator.\n",
        "\n",
        "o\tStatic methods do not take any special first argument and are defined using the @staticmethod decorator. They don't access or modify the class state.\n",
        "\n",
        "11.\tWhat is method overloading in Python?\n",
        "\n",
        "Ans :- \tMethod overloading refers to defining multiple methods with the same name but different arguments. Python doesn't support method overloading explicitly, but it can be simulated by using default arguments or variable-length arguments (*args).\n",
        "\n",
        "12.\tWhat is method overriding in OOP?\n",
        "\n",
        "Ans :- \tMethod overriding occurs when a subclass provides a specific implementation of a method that is already defined in its superclass.\n",
        "\n",
        "13.\tWhat is a property decorator in Python?\n",
        "\n",
        "Ans :- \tThe @property decorator is used to define a method as a property, allowing you to access it like an attribute. It is typically used for getter methods.\n",
        "\n",
        "14.\tWhy is polymorphism important in OOP?\n",
        "\n",
        "Ans :- \tPolymorphism allows different objects to be treated as instances of the same class through a common interface, making code more flexible and extensible.\n",
        "\n",
        "15.\tWhat is an abstract class in Python?\n",
        "\n",
        "Ans :- \tAn abstract class is a class that cannot be instantiated and is typically used as a blueprint for other classes. It can have abstract methods that must be implemented in derived classes. In Python, abstract classes are defined using the ABC module and @abstractmethod decorator.\n",
        "\n",
        "16.\tWhat are the advantages of OOP?\n",
        "\n",
        "Ans :-\n",
        "o\tThe advantages of OOP include:\n",
        "\n",
        "\tModularity: Breaking the program into objects allows modular development.\n",
        "\n",
        "\tCode reusability: Inheritance promotes code reuse.\n",
        "\n",
        "\tFlexibility: Polymorphism and encapsulation increase flexibility and maintainability.\n",
        "\n",
        "\tData security: Encapsulation helps protect sensitive data.\n",
        "\n",
        "17.\tWhat is the difference between a class variable and an instance variable?\n",
        "\n",
        "Ans :- \tClass variables are shared among all instances of a class, while instance variables are unique to each object instance.\n",
        "\n",
        "18.\tWhat is multiple inheritance in Python?\n",
        "\n",
        "Ans :- \tMultiple inheritance is when a class inherits from more than one base class. This allows a derived class to inherit properties and methods from multiple parent classes.\n",
        "\n",
        "19.\tExplain the purpose of __str__ and __repr__ methods in Python.\n",
        "\n",
        "Ans :- \t__str__() provides a readable and user-friendly representation of an object, whereas __repr__() provides a more technical or official string representation for debugging.\n",
        "\n",
        "20.\tWhat is the significance of the super() function in Python?\n",
        "\n",
        "Ans :- \tsuper() is used to call the parent class's methods and constructor. It allows you to access inherited methods that have been overridden in a subclass.\n",
        "\n",
        "21.\tWhat is the significance of the __del__ method in Python?\n",
        "\n",
        "Ans :- \tThe __del__() method is a destructor method that is called when an object is about to be destroyed to free up resources.\n",
        "\n",
        "22.\tWhat is the difference between @staticmethod and @classmethod in Python?\n",
        "\n",
        "Ans :- \t@staticmethod defines a method that does not receive the class or instance as the first argument, whereas @classmethod receives the class as the first argument.\n",
        "\n",
        "23.\tHow does polymorphism work in Python with inheritance?\n",
        "\n",
        "Ans :- \tPolymorphism in Python allows the same method to behave differently in different classes. Through inheritance, a child class can override a method of the parent class, and depending on the object calling the method, it will execute the corresponding version.\n",
        "\n",
        "24.\tWhat is method chaining in Python OOP?\n",
        "\n",
        "Ans :- \tMethod chaining is a technique where multiple methods are called on the same object in a single line. This is typically achieved by having each method return self.\n",
        "\n",
        "25.\tWhat is the purpose of the __call__ method in Python?\n",
        "\n",
        "Ans :-\n",
        "\tThe __call__() method allows an object to be called as if it were a function. It is useful for creating callable objects.\n"
      ],
      "metadata": {
        "id": "md-EU3MbNuOC"
      }
    },
    {
      "cell_type": "markdown",
      "source": [
        "Pratical Questions And Answer"
      ],
      "metadata": {
        "id": "b33s0eMUUTmm"
      }
    },
    {
      "cell_type": "code",
      "source": [
        "# 1. Create a parent class Animal with a method speak() that prints a generic message. Create a child class Dog that overrides the speak() method to print \"Bark!\".\n",
        "\n",
        "# Parent class\n",
        "class Animal:\n",
        "    def speak(self):\n",
        "        print(\"The animal makes a sound.\")\n",
        "\n",
        "# Child class\n",
        "class Dog(Animal):\n",
        "    def speak(self):\n",
        "        print(\"Bark!\")\n",
        "\n",
        "# Create instances\n",
        "generic_animal = Animal()\n",
        "dog = Dog()\n",
        "\n",
        "# Call the speak method\n",
        "generic_animal.speak()  # Output: The animal makes a sound.\n",
        "dog.speak()  # Output: Bark!\n"
      ],
      "metadata": {
        "colab": {
          "base_uri": "https://localhost:8080/"
        },
        "id": "qE0I-CxLP4KQ",
        "outputId": "5ff61185-48d5-4a0d-f96e-2d71cbc0bdc6"
      },
      "execution_count": 1,
      "outputs": [
        {
          "output_type": "stream",
          "name": "stdout",
          "text": [
            "The animal makes a sound.\n",
            "Bark!\n"
          ]
        }
      ]
    },
    {
      "cell_type": "code",
      "source": [
        "# 2. Write a program to create an abstract class Shape with a method area(). Derive classes Circle and Rectangle from it and implement the area() method in both.\n",
        "\n",
        "from abc import ABC, abstractmethod\n",
        "import math\n",
        "\n",
        "# Abstract class\n",
        "class Shape(ABC):\n",
        "    @abstractmethod\n",
        "    def area(self):\n",
        "        pass\n",
        "\n",
        "# Circle class\n",
        "class Circle(Shape):\n",
        "    def __init__(self, radius):\n",
        "        self.radius = radius\n",
        "\n",
        "    def area(self):\n",
        "        return math.pi * self.radius ** 2\n",
        "\n",
        "# Rectangle class\n",
        "class Rectangle(Shape):\n",
        "    def __init__(self, length, width):\n",
        "        self.length = length\n",
        "        self.width = width\n",
        "\n",
        "    def area(self):\n",
        "        return self.length * self.width\n",
        "\n",
        "# Create instances\n",
        "circle = Circle(5)\n",
        "rectangle = Rectangle(4, 6)\n",
        "\n",
        "# Print areas\n",
        "print(\"Circle area:\", circle.area())  # Output: Circle area: 78.53981633974483\n",
        "print(\"Rectangle area:\", rectangle.area())  # Output: Rectangle area: 24\n"
      ],
      "metadata": {
        "colab": {
          "base_uri": "https://localhost:8080/"
        },
        "id": "Zl0FdNavQTEq",
        "outputId": "3133b4c4-cac5-43fa-8a4c-c64490bef410"
      },
      "execution_count": 2,
      "outputs": [
        {
          "output_type": "stream",
          "name": "stdout",
          "text": [
            "Circle area: 78.53981633974483\n",
            "Rectangle area: 24\n"
          ]
        }
      ]
    },
    {
      "cell_type": "code",
      "source": [
        "# 3. Implement a multi-level inheritance scenario where a class Vehicle has an attribute type. Derive a class Car and further derive a class ElectricCar that adds a battery attribute.\n",
        "\n",
        "# Base class\n",
        "class Vehicle:\n",
        "    def __init__(self, vehicle_type):\n",
        "        self.vehicle_type = vehicle_type\n",
        "\n",
        "    def display_info(self):\n",
        "        print(f\"Vehicle type: {self.vehicle_type}\")\n",
        "\n",
        "# Derived class\n",
        "class Car(Vehicle):\n",
        "    def __init__(self, vehicle_type, brand):\n",
        "        super().__init__(vehicle_type)  # Call the parent class constructor\n",
        "        self.brand = brand\n",
        "\n",
        "    def display_info(self):\n",
        "        super().display_info()  # Call the parent class method\n",
        "        print(f\"Car brand: {self.brand}\")\n",
        "\n",
        "# Further derived class\n",
        "class ElectricCar(Car):\n",
        "    def __init__(self, vehicle_type, brand, battery_capacity):\n",
        "        super().__init__(vehicle_type, brand)  # Call the Car class constructor\n",
        "        self.battery_capacity = battery_capacity\n",
        "\n",
        "    def display_info(self):\n",
        "        super().display_info()  # Call the Car class method\n",
        "        print(f\"Battery capacity: {self.battery_capacity} kWh\")\n",
        "\n",
        "# Create an instance of ElectricCar\n",
        "tesla = ElectricCar(\"Electric\", \"Tesla\", 75)\n",
        "\n",
        "# Display information\n",
        "tesla.display_info()\n"
      ],
      "metadata": {
        "colab": {
          "base_uri": "https://localhost:8080/"
        },
        "id": "cM3vnP7SQ25L",
        "outputId": "351d75ef-4b91-487c-e7d5-0ab88caeaf01"
      },
      "execution_count": 3,
      "outputs": [
        {
          "output_type": "stream",
          "name": "stdout",
          "text": [
            "Vehicle type: Electric\n",
            "Car brand: Tesla\n",
            "Battery capacity: 75 kWh\n"
          ]
        }
      ]
    },
    {
      "cell_type": "code",
      "source": [
        "# 4. Demonstrate polymorphism by creating a base class Bird with a method fly(). Create two derived classes Sparrow and Penguin that override the fly() method.\n",
        "\n",
        "# Base class\n",
        "class Bird:\n",
        "    def fly(self):\n",
        "        print(\"Some birds can fly.\")\n",
        "\n",
        "# Derived class - Sparrow\n",
        "class Sparrow(Bird):\n",
        "    def fly(self):\n",
        "        print(\"Sparrow flies high.\")\n",
        "\n",
        "# Derived class - Penguin\n",
        "class Penguin(Bird):\n",
        "    def fly(self):\n",
        "        print(\"Penguins can't fly, but they swim well.\")\n",
        "\n",
        "# Function demonstrating polymorphism\n",
        "def bird_fly(bird):\n",
        "    bird.fly()\n",
        "\n",
        "# Create instances\n",
        "sparrow = Sparrow()\n",
        "penguin = Penguin()\n",
        "\n",
        "# Call the fly method through polymorphism\n",
        "bird_fly(sparrow)   # Output: Sparrow flies high.\n",
        "bird_fly(penguin)   # Output: Penguins can't fly, but they swim well.\n"
      ],
      "metadata": {
        "colab": {
          "base_uri": "https://localhost:8080/"
        },
        "id": "ExsTwejnQ-mj",
        "outputId": "28cbed2f-363b-4a03-a3db-e128665a8396"
      },
      "execution_count": 4,
      "outputs": [
        {
          "output_type": "stream",
          "name": "stdout",
          "text": [
            "Sparrow flies high.\n",
            "Penguins can't fly, but they swim well.\n"
          ]
        }
      ]
    },
    {
      "cell_type": "code",
      "source": [
        "# 5. Write a program to demonstrate encapsulation by creating a class BankAccount with private attributes balance and methods to deposit, withdraw, and check balance.\n",
        "\n",
        "class BankAccount:\n",
        "    def __init__(self, initial_balance=0):\n",
        "        self.__balance = initial_balance  # Private attribute\n",
        "\n",
        "    # Method to deposit money\n",
        "    def deposit(self, amount):\n",
        "        if amount > 0:\n",
        "            self.__balance += amount\n",
        "            print(f\"Deposited: ${amount}\")\n",
        "        else:\n",
        "            print(\"Deposit amount must be positive.\")\n",
        "\n",
        "    # Method to withdraw money\n",
        "    def withdraw(self, amount):\n",
        "        if 0 < amount <= self.__balance:\n",
        "            self.__balance -= amount\n",
        "            print(f\"Withdrew: ${amount}\")\n",
        "        else:\n",
        "            print(\"Insufficient balance or invalid amount.\")\n",
        "\n",
        "    # Method to check the balance\n",
        "    def check_balance(self):\n",
        "        print(f\"Current balance: ${self.__balance}\")\n",
        "\n",
        "# Create a bank account object\n",
        "account = BankAccount(100)  # Initial balance of $100\n",
        "\n",
        "# Deposit money\n",
        "account.deposit(50)  # Output: Deposited: $50\n",
        "\n",
        "# Withdraw money\n",
        "account.withdraw(30)  # Output: Withdrew: $30\n",
        "\n",
        "# Check balance\n",
        "account.check_balance()  # Output: Current balance: $120\n",
        "\n",
        "# Trying to access the private attribute directly will result in an error\n",
        "# print(account.__balance)  # This will raise an AttributeError\n"
      ],
      "metadata": {
        "colab": {
          "base_uri": "https://localhost:8080/"
        },
        "id": "fEP4vBeARPW-",
        "outputId": "cb850697-7ebb-4bf2-ca66-0dcfadf576ec"
      },
      "execution_count": 5,
      "outputs": [
        {
          "output_type": "stream",
          "name": "stdout",
          "text": [
            "Deposited: $50\n",
            "Withdrew: $30\n",
            "Current balance: $120\n"
          ]
        }
      ]
    },
    {
      "cell_type": "code",
      "source": [
        "# 6. Demonstrate runtime polymorphism using a method play() in a base class Instrument. Derive classes Guitar and Piano that implement their own version of play().\n",
        "\n",
        "# Base class\n",
        "class Instrument:\n",
        "    def play(self):\n",
        "        print(\"Playing an instrument.\")\n",
        "\n",
        "# Derived class - Guitar\n",
        "class Guitar(Instrument):\n",
        "    def play(self):\n",
        "        print(\"Playing the guitar.\")\n",
        "\n",
        "# Derived class - Piano\n",
        "class Piano(Instrument):\n",
        "    def play(self):\n",
        "        print(\"Playing the piano.\")\n",
        "\n",
        "# Function demonstrating runtime polymorphism\n",
        "def play_instrument(instrument):\n",
        "    instrument.play()\n",
        "\n",
        "# Create instances\n",
        "guitar = Guitar()\n",
        "piano = Piano()\n",
        "\n",
        "# Call the play method through polymorphism\n",
        "play_instrument(guitar)  # Output: Playing the guitar.\n",
        "play_instrument(piano)   # Output: Playing the piano.\n"
      ],
      "metadata": {
        "colab": {
          "base_uri": "https://localhost:8080/"
        },
        "id": "zTkeDL3zRgLT",
        "outputId": "f22b03af-57e9-4c01-e79c-090ab47838bc"
      },
      "execution_count": 6,
      "outputs": [
        {
          "output_type": "stream",
          "name": "stdout",
          "text": [
            "Playing the guitar.\n",
            "Playing the piano.\n"
          ]
        }
      ]
    },
    {
      "cell_type": "code",
      "source": [
        "# 7. Create a class MathOperations with a class method add_numbers() to add two numbers and a static method subtract_numbers() to subtract two numbers.\n",
        "\n",
        "class MathOperations:\n",
        "    # Class method to add two numbers\n",
        "    @classmethod\n",
        "    def add_numbers(cls, num1, num2):\n",
        "        return num1 + num2\n",
        "\n",
        "    # Static method to subtract two numbers\n",
        "    @staticmethod\n",
        "    def subtract_numbers(num1, num2):\n",
        "        return num1 - num2\n",
        "\n",
        "# Using the class method\n",
        "sum_result = MathOperations.add_numbers(10, 5)\n",
        "print(f\"Sum: {sum_result}\")  # Output: Sum: 15\n",
        "\n",
        "# Using the static method\n",
        "subtraction_result = MathOperations.subtract_numbers(10, 5)\n",
        "print(f\"Difference: {subtraction_result}\")  # Output: Difference: 5\n"
      ],
      "metadata": {
        "colab": {
          "base_uri": "https://localhost:8080/"
        },
        "id": "W51c9Tx0RsVj",
        "outputId": "f6084f87-47ae-4e85-a1a5-88a6fbe24b85"
      },
      "execution_count": 7,
      "outputs": [
        {
          "output_type": "stream",
          "name": "stdout",
          "text": [
            "Sum: 15\n",
            "Difference: 5\n"
          ]
        }
      ]
    },
    {
      "cell_type": "code",
      "source": [
        "# 8. Implement a class Person with a class method to count the total number of persons created.\n",
        "\n",
        "class Person:\n",
        "    count = 0  # Class attribute to keep track of the number of persons\n",
        "\n",
        "    def __init__(self, name):\n",
        "        self.name = name\n",
        "        Person.increment_count()\n",
        "\n",
        "    @classmethod\n",
        "    def increment_count(cls):\n",
        "        cls.count += 1\n",
        "\n",
        "    @classmethod\n",
        "    def get_total_persons(cls):\n",
        "        return cls.count\n",
        "\n",
        "# Creating instances of the Person class\n",
        "person1 = Person(\"Alice\")\n",
        "person2 = Person(\"Bob\")\n",
        "person3 = Person(\"Charlie\")\n",
        "\n",
        "# Checking the total number of persons created\n",
        "print(f\"Total persons created: {Person.get_total_persons()}\")  # Output: Total persons created: 3\n"
      ],
      "metadata": {
        "colab": {
          "base_uri": "https://localhost:8080/"
        },
        "id": "-8OyP1wxR0rG",
        "outputId": "c390bd50-8bc7-4b2c-9c1d-40d3e4e97208"
      },
      "execution_count": 8,
      "outputs": [
        {
          "output_type": "stream",
          "name": "stdout",
          "text": [
            "Total persons created: 3\n"
          ]
        }
      ]
    },
    {
      "cell_type": "code",
      "source": [
        "# 9. Write a class Fraction with attributes numerator and denominator. Override the __str__ method to display the fraction as \"numerator/denominator\".\n",
        "\n",
        "class Fraction:\n",
        "    def __init__(self, numerator, denominator):\n",
        "        self.numerator = numerator\n",
        "        self.denominator = denominator\n",
        "\n",
        "    # Overriding the __str__ method\n",
        "    def __str__(self):\n",
        "        return f\"{self.numerator}/{self.denominator}\"\n",
        "\n",
        "# Creating instances of the Fraction class\n",
        "fraction1 = Fraction(3, 4)\n",
        "fraction2 = Fraction(7, 10)\n",
        "\n",
        "# Printing the fractions\n",
        "print(fraction1)  # Output: 3/4\n",
        "print(fraction2)  # Output: 7/10\n"
      ],
      "metadata": {
        "colab": {
          "base_uri": "https://localhost:8080/"
        },
        "id": "OJzWYIwxR_J8",
        "outputId": "3f5fb5e9-0533-4bed-c724-9f8ecd6a3d9a"
      },
      "execution_count": 9,
      "outputs": [
        {
          "output_type": "stream",
          "name": "stdout",
          "text": [
            "3/4\n",
            "7/10\n"
          ]
        }
      ]
    },
    {
      "cell_type": "code",
      "source": [
        "# 10. Demonstrate operator overloading by creating a class Vector and overriding the __add__ method to add two vectors.\n",
        "\n",
        "class Vector:\n",
        "    def __init__(self, x, y):\n",
        "        self.x = x\n",
        "        self.y = y\n",
        "\n",
        "    # Overriding the __add__ method to add two vectors\n",
        "    def __add__(self, other):\n",
        "        return Vector(self.x + other.x, self.y + other.y)\n",
        "\n",
        "    # Overriding the __str__ method to display the vector in a readable format\n",
        "    def __str__(self):\n",
        "        return f\"Vector({self.x}, {self.y})\"\n",
        "\n",
        "# Creating two vector instances\n",
        "vector1 = Vector(2, 3)\n",
        "vector2 = Vector(4, 5)\n",
        "\n",
        "# Adding two vectors using the overloaded + operator\n",
        "vector_sum = vector1 + vector2\n",
        "\n",
        "# Display the result\n",
        "print(vector_sum)  # Output: Vector(6, 8)\n"
      ],
      "metadata": {
        "colab": {
          "base_uri": "https://localhost:8080/"
        },
        "id": "MPJes25iSNDt",
        "outputId": "33816518-a975-498a-b300-d03c1464ce4a"
      },
      "execution_count": 10,
      "outputs": [
        {
          "output_type": "stream",
          "name": "stdout",
          "text": [
            "Vector(6, 8)\n"
          ]
        }
      ]
    },
    {
      "cell_type": "code",
      "source": [
        "# 11. Create a class Person with attributes name and age. Add a method greet() that prints \"Hello, my name is {name} and I am {age} years old.\"\n",
        "\n",
        "class Person:\n",
        "    def __init__(self, name, age):\n",
        "        self.name = name\n",
        "        self.age = age\n",
        "\n",
        "    # Method to greet\n",
        "    def greet(self):\n",
        "        print(f\"Hello, my name is {self.name} and I am {self.age} years old.\")\n",
        "\n",
        "# Creating an instance of the Person class\n",
        "person1 = Person(\"Akshay\", 30)\n",
        "\n",
        "# Calling the greet method\n",
        "person1.greet()  # Output: Hello, my name is Alice and I am 30 years old.\n",
        "\n"
      ],
      "metadata": {
        "colab": {
          "base_uri": "https://localhost:8080/"
        },
        "id": "rIgDFQu7SXQ_",
        "outputId": "63108fbe-cd43-41de-8bb2-eb555d2cec83"
      },
      "execution_count": 12,
      "outputs": [
        {
          "output_type": "stream",
          "name": "stdout",
          "text": [
            "Hello, my name is Akshay and I am 30 years old.\n"
          ]
        }
      ]
    },
    {
      "cell_type": "code",
      "source": [
        "# 12. Implement a class Student with attributes name and grades. Create a method average_grade() to compute the average of the grades.\n",
        "\n",
        "class Student:\n",
        "    def __init__(self, name, grades):\n",
        "        self.name = name\n",
        "        self.grades = grades  # A list of grades\n",
        "\n",
        "    # Method to compute the average of grades\n",
        "    def average_grade(self):\n",
        "        if len(self.grades) == 0:\n",
        "            return 0  # Avoid division by zero if no grades\n",
        "        return sum(self.grades) / len(self.grades)\n",
        "\n",
        "# Creating an instance of the Student class\n",
        "student1 = Student(\"Akshay\", [85, 90, 78, 92])\n",
        "\n",
        "# Computing and printing the average grade\n",
        "print(f\"{student1.name}'s average grade: {student1.average_grade():.2f}\")  # Output: John's average grade: 86.25\n",
        "\n",
        "\n"
      ],
      "metadata": {
        "colab": {
          "base_uri": "https://localhost:8080/"
        },
        "id": "fVQT25okSiYz",
        "outputId": "aed71052-b33d-4748-f1b6-4b668530daa0"
      },
      "execution_count": 14,
      "outputs": [
        {
          "output_type": "stream",
          "name": "stdout",
          "text": [
            "Akshay's average grade: 86.25\n"
          ]
        }
      ]
    },
    {
      "cell_type": "code",
      "source": [
        "# 13. Create a class Rectangle with methods set_dimensions() to set the dimensions and area() to calculate the area.\n",
        "\n",
        "class Rectangle:\n",
        "    def __init__(self):\n",
        "        self.length = 0\n",
        "        self.width = 0\n",
        "\n",
        "    # Method to set the dimensions of the rectangle\n",
        "    def set_dimensions(self, length, width):\n",
        "        self.length = length\n",
        "        self.width = width\n",
        "\n",
        "    # Method to calculate the area of the rectangle\n",
        "    def area(self):\n",
        "        return self.length * self.width\n",
        "\n",
        "# Creating an instance of the Rectangle class\n",
        "rect = Rectangle()\n",
        "\n",
        "# Setting dimensions\n",
        "rect.set_dimensions(5, 3)\n",
        "\n",
        "# Calculating and printing the area\n",
        "print(f\"Area of the rectangle: {rect.area()}\")  # Output: Area of the rectangle: 15\n"
      ],
      "metadata": {
        "colab": {
          "base_uri": "https://localhost:8080/"
        },
        "id": "l7b-DZ-pSwfW",
        "outputId": "5cd4f706-3913-47ed-8d26-250570840864"
      },
      "execution_count": 15,
      "outputs": [
        {
          "output_type": "stream",
          "name": "stdout",
          "text": [
            "Area of the rectangle: 15\n"
          ]
        }
      ]
    },
    {
      "cell_type": "code",
      "source": [
        "# 14. Create a class Employee with a method calculate_salary() that computes the salary based on hours worked and hourly rate. Create a derived class Manager that adds a bonus to the salary.\n",
        "\n",
        "# Base class\n",
        "class Employee:\n",
        "    def __init__(self, name, hours_worked, hourly_rate):\n",
        "        self.name = name\n",
        "        self.hours_worked = hours_worked\n",
        "        self.hourly_rate = hourly_rate\n",
        "\n",
        "    # Method to calculate salary based on hours worked and hourly rate\n",
        "    def calculate_salary(self):\n",
        "        return self.hours_worked * self.hourly_rate\n",
        "\n",
        "# Derived class\n",
        "class Manager(Employee):\n",
        "    def __init__(self, name, hours_worked, hourly_rate, bonus):\n",
        "        super().__init__(name, hours_worked, hourly_rate)\n",
        "        self.bonus = bonus\n",
        "\n",
        "    # Override the calculate_salary method to add a bonus\n",
        "    def calculate_salary(self):\n",
        "        base_salary = super().calculate_salary()  # Get the base salary from Employee\n",
        "        return base_salary + self.bonus\n",
        "\n",
        "# Creating an instance of Employee\n",
        "employee = Employee(\"Akshay\", 40, 25)\n",
        "print(f\"{employee.name}'s salary: ${employee.calculate_salary()}\")  # Output: John's salary: $1000\n",
        "\n",
        "# Creating an instance of Manager\n",
        "manager = Manager(\"Sachin\", 40, 30, 500)\n",
        "print(f\"{manager.name}'s salary: ${manager.calculate_salary()}\")  # Output: Alice's salary: $1700\n"
      ],
      "metadata": {
        "colab": {
          "base_uri": "https://localhost:8080/"
        },
        "id": "nkm-6laFS_OB",
        "outputId": "f31b9637-5f98-4161-8142-49d431e5a30e"
      },
      "execution_count": 17,
      "outputs": [
        {
          "output_type": "stream",
          "name": "stdout",
          "text": [
            "Akshay's salary: $1000\n",
            "Sachin's salary: $1700\n"
          ]
        }
      ]
    },
    {
      "cell_type": "code",
      "source": [
        "# 15. Create a class Product with attributes name, price, and quantity. Implement a method total_price() that calculates the total price of the product.\n",
        "\n",
        "class Product:\n",
        "    def __init__(self, name, price, quantity):\n",
        "        self.name = name\n",
        "        self.price = price\n",
        "        self.quantity = quantity\n",
        "\n",
        "    # Method to calculate the total price of the product\n",
        "    def total_price(self):\n",
        "        return self.price * self.quantity\n",
        "\n",
        "# Creating an instance of the Product class\n",
        "product = Product(\"Laptop\", 800, 3)\n",
        "\n",
        "# Calculating and printing the total price\n",
        "print(f\"Total price for {product.quantity} {product.name}(s): ${product.total_price()}\")\n",
        "# Output: Total price for 3 Laptop(s): $2400\n"
      ],
      "metadata": {
        "colab": {
          "base_uri": "https://localhost:8080/"
        },
        "id": "cOUDRY7bTPY4",
        "outputId": "0fc6ca94-c0d7-4348-b062-f624427e4e24"
      },
      "execution_count": 18,
      "outputs": [
        {
          "output_type": "stream",
          "name": "stdout",
          "text": [
            "Total price for 3 Laptop(s): $2400\n"
          ]
        }
      ]
    },
    {
      "cell_type": "code",
      "source": [
        "#  16. Create a class Animal with an abstract method sound(). Create two derived classes Cow and Sheep that implement the sound() method.\n",
        "\n",
        "from abc import ABC, abstractmethod\n",
        "\n",
        "# Base class with an abstract method\n",
        "class Animal(ABC):\n",
        "    @abstractmethod\n",
        "    def sound(self):\n",
        "        pass  # Abstract method, must be implemented by derived classes\n",
        "\n",
        "# Derived class - Cow\n",
        "class Cow(Animal):\n",
        "    def sound(self):\n",
        "        return \"Moo\"\n",
        "\n",
        "# Derived class - Sheep\n",
        "class Sheep(Animal):\n",
        "    def sound(self):\n",
        "        return \"Baa\"\n",
        "\n",
        "# Creating instances of Cow and Sheep\n",
        "cow = Cow()\n",
        "sheep = Sheep()\n",
        "\n",
        "# Calling the sound method\n",
        "print(f\"The cow says: {cow.sound()}\")     # Output: The cow says: Moo\n",
        "print(f\"The sheep says: {sheep.sound()}\") # Output: The sheep says: Baa\n"
      ],
      "metadata": {
        "colab": {
          "base_uri": "https://localhost:8080/"
        },
        "id": "03m1YCxVTiAq",
        "outputId": "26b15f61-cbc7-4732-855f-95012e3a2af1"
      },
      "execution_count": 19,
      "outputs": [
        {
          "output_type": "stream",
          "name": "stdout",
          "text": [
            "The cow says: Moo\n",
            "The sheep says: Baa\n"
          ]
        }
      ]
    },
    {
      "cell_type": "code",
      "source": [
        "# 17. Create a class Book with attributes title, author, and year_published. Add a method get_book_info() that returns a formatted string with the book's details.\n",
        "\n",
        "class Book:\n",
        "    def __init__(self, title, author, year_published):\n",
        "        self.title = title\n",
        "        self.author = author\n",
        "        self.year_published = year_published\n",
        "\n",
        "    # Method to return formatted book information\n",
        "    def get_book_info(self):\n",
        "        return f\"'{self.title}' by {self.author}, published in {self.year_published}\"\n",
        "\n",
        "# Creating an instance of the Book class\n",
        "book = Book(\"To Kill a Mockingbird\", \"Harper Lee\", 1960)\n",
        "\n",
        "# Getting and printing the book information\n",
        "print(book.get_book_info())  # Output: 'To Kill a Mockingbird' by Harper Lee, published in 1960\n",
        "\n"
      ],
      "metadata": {
        "colab": {
          "base_uri": "https://localhost:8080/"
        },
        "id": "C98ckYXnTvpM",
        "outputId": "ffe0b1c7-7059-49da-f954-9508aebb42ed"
      },
      "execution_count": 20,
      "outputs": [
        {
          "output_type": "stream",
          "name": "stdout",
          "text": [
            "'To Kill a Mockingbird' by Harper Lee, published in 1960\n"
          ]
        }
      ]
    },
    {
      "cell_type": "code",
      "source": [
        "# 18. Create a class House with attributes address and price. Create a derived class Mansion that adds an attribute number_of_rooms.\n",
        "\n",
        "# Base class - House\n",
        "class House:\n",
        "    def __init__(self, address, price):\n",
        "        self.address = address\n",
        "        self.price = price\n",
        "\n",
        "# Derived class - Mansion\n",
        "class Mansion(House):\n",
        "    def __init__(self, address, price, number_of_rooms):\n",
        "        super().__init__(address, price)  # Call the constructor of the base class\n",
        "        self.number_of_rooms = number_of_rooms\n",
        "\n",
        "# Creating an instance of the Mansion class\n",
        "mansion = Mansion(\"123 Luxury St.\", 5000000, 10)\n",
        "\n",
        "# Printing the mansion's details\n",
        "print(f\"Address: {mansion.address}\")\n",
        "print(f\"Price: ${mansion.price}\")\n",
        "print(f\"Number of rooms: {mansion.number_of_rooms}\")\n"
      ],
      "metadata": {
        "colab": {
          "base_uri": "https://localhost:8080/"
        },
        "id": "3QDDoermT80H",
        "outputId": "a79267cb-3d26-41c8-ef6a-0ee1f4fa2b46"
      },
      "execution_count": 21,
      "outputs": [
        {
          "output_type": "stream",
          "name": "stdout",
          "text": [
            "Address: 123 Luxury St.\n",
            "Price: $5000000\n",
            "Number of rooms: 10\n"
          ]
        }
      ]
    },
    {
      "cell_type": "code",
      "source": [],
      "metadata": {
        "id": "Yfm-O4_IUNvs"
      },
      "execution_count": 21,
      "outputs": []
    }
  ]
}